{
 "cells": [
  {
   "cell_type": "markdown",
   "id": "04218a15",
   "metadata": {},
   "source": [
    "You are a game playing agent. This game involves a 2-D grid which you have to traverse and get as many energy tokens as possible within a given number of actions (called `max_actions`) and put the collected energy back in the cell where you started. You are denoted by the letter 'A', the energy tokens are denoted by the letter 'E'. You can move in 4 directions: \"LEFT\", \"RIGHT\", \"UP\" and \"DOWN\"'. You can also perform two additional actions on the cell you are in currently: \"TAKE\" (take the energy in the current cell) and \"DROP\" (drop all the energy tokens you are carrying on to the current cell). The goal is to collect as many energy tokens as possible and drop them back in the cell where you started. The energy tokens you are holding onto do not count towards your score. Only the tokens dropped or already present in your starting cell count towards your score. Make sure to drop your collected tokens in your starting cell. Come up with a strategy that would solve this game as optimally as possible. One grid is given as example, you can use that to understand the format. Give me the pseudocode for your strategy. You do not have to focus on writing the actual running code. The output of the algorithm must be the list of actions taken. Make sure to focus on the solution strategy and come with a good strategy that works on any given grid and any given constraints. Ensure your code doesnt cause any errors like out of grid bounds, etc...  \n",
    "<sample_grid>\n",
    "0   1   2   3   4   5   6   7   8   9   10\n",
    "  +---+---+---+---+---+---+---+---+---+---+---+\n",
    "0|   |   | E | E | E | E |   | E | E | E | E |\n",
    "  +---+---+---+---+---+---+---+---+---+---+---+\n",
    "1|   |   | E | E | E |   |   |   |   | E |   |\n",
    "  +---+---+---+---+---+---+---+---+---+---+---+\n",
    "2| E |   |   |   | E |   |   | E | E |   |   |\n",
    "  +---+---+---+---+---+---+---+---+---+---+---+\n",
    "3| E | E | E | E |   | E | E | E |   | E | E |\n",
    "  +---+---+---+---+---+---+---+---+---+---+---+\n",
    "4|   | E |   | A | E |   | E |   | E | E |   |\n",
    "  +---+---+---+---+---+---+---+---+---+---+---+\n",
    "5| E |   | E |   | E | E |   | E |   | E |   |\n",
    "  +---+---+---+---+---+---+---+---+---+---+---+\n",
    "6| E |   | E |   |   |   |   | E | E | E | E |\n",
    "  +---+---+---+---+---+---+---+---+---+---+---+\n",
    "7| E | E |   |   |   |   | E |   | E | E |   |\n",
    "  +---+---+---+---+---+---+---+---+---+---+---+\n",
    "8| E |   | E | E | E |   |   |   | E | E |   |\n",
    "  +---+---+---+---+---+---+---+---+---+---+---+\n",
    "9|   |   | E | E | E |   | E |   |   |   |   |\n",
    "  +---+---+---+---+---+---+---+---+---+---+---+\n",
    "10|   | E | E |   | E | E |   | E |   | E | E |\n",
    "  +---+---+---+---+---+---+---+---+---+---+---+\n",
    "</sample_grid>"
   ]
  },
  {
   "cell_type": "markdown",
   "id": "40293bfa",
   "metadata": {},
   "source": [
    "Now, using your pseudocode, write Python code for this task.\n",
    "Provide a function `solve` that can be called with inputs `grid, start_position, max_actions` to get the list of actions."
   ]
  },
  {
   "cell_type": "markdown",
   "id": "8eb6c630",
   "metadata": {},
   "source": [
    "Now, you are allowed to move in 8 directions, \"UPLEFT\", \"UPRIGHT\", \"DOWNLEFT\", \"DOWNRIGHT\" in addition to the 4 initial movement directions. You will be given a boolean parameter `is_diagonals_allowed` to indicate whether you are allowed to use the new 4 diagonal movement directions.\n",
    "Update your code accordingly."
   ]
  },
  {
   "cell_type": "markdown",
   "id": "e7031f71",
   "metadata": {
    "vscode": {
     "languageId": "plaintext"
    }
   },
   "source": [
    "Now, there is an additional constraint: There is a limit on the number of energy tokens you can carry at any time. You will be given a integer parameter `carry_limit` which represents the maximum number of energy tokens you can carry at any time.\n",
    "Update your code accordingly."
   ]
  },
  {
   "cell_type": "markdown",
   "id": "7c51d5c4",
   "metadata": {},
   "source": [
    "Now, there is an additional constraint: There is a cost associated with a step in any direction. You will be given a float parameter `cost_per_step` which represents the cost associated with a step in any direction which will be subtracted at the end from the total number of energy tokens you collect.\n",
    "Update your code accordingly."
   ]
  },
  {
   "cell_type": "code",
   "execution_count": null,
   "id": "66e2b0bc",
   "metadata": {
    "vscode": {
     "languageId": "plaintext"
    }
   },
   "outputs": [],
   "source": []
  },
  {
   "cell_type": "markdown",
   "id": "d386ee95",
   "metadata": {},
   "source": [
    "Now, there is an additional constraint: There can be obstacles in the grid. They will be represented by the letter 'O' in the grid. You cannot stand on or go through a cell with an obstacle.\n",
    "Update your code accordingly."
   ]
  }
 ],
 "metadata": {
  "language_info": {
   "name": "python"
  }
 },
 "nbformat": 4,
 "nbformat_minor": 5
}
