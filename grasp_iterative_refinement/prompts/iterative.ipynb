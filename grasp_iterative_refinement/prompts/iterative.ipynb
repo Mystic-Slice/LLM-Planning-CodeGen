{
 "cells": [
  {
   "cell_type": "markdown",
   "id": "a1ce134c",
   "metadata": {},
   "source": [
    "You were tasked with writing code to play a game optimally. But your code didn’t perform well on certain types of grids. You are now given the entire problem statement, along with your code and some grid examples where your code doesnt perform properly. Modify your code to perform well on these types of grids.  \n",
    "  \n",
    "<game_instructions>  \n",
    "You are a game playing agent. This game involves a 2-D grid which you have to traverse and get as many energy tokens as possible within a given number of actions (called `max_actions`) and put the collected energy back in the cell where you started. You are denoted by the letter 'A', the energy tokens are denoted by the letter 'E' and obstacles if any are denoted by the letter 'O'. You can move in '4 ('four') directions: \"LEFT\", \"RIGHT\", \"UP\" and \"DOWN\"' or 8 ('eight') directions including \"UPLEFT\", \"UPRIGHT\", \"DOWNLEFT\" and \"DOWNRIGHT\", if diagonals are allowed (boolean parameter called `is_diagonals_allowed`). You can also perform two additional actions on the cell you are in currently: \"TAKE\" (take the energy in the current cell) and \"DROP\" (drop all the energy tokens you are carrying on to the current cell). You will also have a limit on the amount of energy tokens you can carry at any time (called `carry_limit`) and also a energy cost per step that you take in any of the different directions (called `cost_per_step`) which will be subtracted from the total energy tokens collected at the end. The goal is to collect as many energy tokens as possible and drop them back in the cell where you started. The energy tokens you are holding onto do not count towards your score. Only the tokens dropped or already present in your starting cell count towards your score. Make sure to drop your collected tokens in your starting cell. Ensure your code doesnt cause any errors like out of grid bounds, etc...      \n",
    "</game_instructions>  \n",
    "<your_code>  \n",
    "\n",
    "</your_code>\n",
    "<sample_grids>    \n",
    "\n",
    "</sample_grids>"
   ]
  }
 ],
 "metadata": {
  "language_info": {
   "name": "python"
  }
 },
 "nbformat": 4,
 "nbformat_minor": 5
}
